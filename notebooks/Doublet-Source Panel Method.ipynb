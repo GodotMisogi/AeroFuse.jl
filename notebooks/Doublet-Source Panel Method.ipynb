{
 "cells": [
  {
   "cell_type": "markdown",
   "metadata": {},
   "source": [
    "# Doublet-Source Panel Method"
   ]
  },
  {
   "cell_type": "code",
   "execution_count": 1,
   "metadata": {},
   "outputs": [],
   "source": [
    "include(\"../src/PanelMethods.jl\")\n",
    "include(\"../src/FoilParametrization.jl\")\n",
    "\n",
    "using .PanelMethods: DoubletPanel2D, Uniform2D, grid_data, aero_coefficients\n",
    "using .FoilParametrization: read_foil, cosine_foil\n",
    "using BenchmarkTools\n",
    "using PyPlot"
   ]
  },
  {
   "cell_type": "code",
   "execution_count": 4,
   "metadata": {},
   "outputs": [
    {
     "name": "stdout",
     "output_type": "stream",
     "text": [
      "  0.009877 seconds (16.20 k allocations: 1.739 MiB)\n",
      "Lift Coefficient: 1.7583128854004405e6, -27.034891881755943\n"
     ]
    }
   ],
   "source": [
    "coords = cosine_foil(read_foil(\"../airfoil_database/s1223.dat\"), n = 60)\n",
    "\n",
    "panels = reverse([ DoubletPanel2D((xs, ys), (xp, yp)) for (xs, ys, xp, yp) ∈ (collect ∘ eachrow)([coords[1:end-1,:] coords[2:end,:]]) ], dims=1)\n",
    "\n",
    "uniform = Uniform2D(5.0, 5.0)\n",
    "\n",
    "@time (cl, kcl, cps) = aero_coefficients(panels, uniform)\n",
    "println(\"Lift Coefficient: $cl, $kcl\")"
   ]
  }
 ],
 "metadata": {
  "kernelspec": {
   "display_name": "Julia 1.5.2",
   "language": "julia",
   "name": "julia-1.5"
  },
  "language_info": {
   "file_extension": ".jl",
   "mimetype": "application/julia",
   "name": "julia",
   "version": "1.5.2"
  }
 },
 "nbformat": 4,
 "nbformat_minor": 4
}
