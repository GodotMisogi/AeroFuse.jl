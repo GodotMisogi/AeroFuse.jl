{
 "cells": [
  {
   "cell_type": "code",
   "execution_count": 1,
   "metadata": {
    "ExecuteTime": {
     "end_time": "2020-11-02T03:00:00.396000+08:00",
     "start_time": "2020-11-01T18:59:43.619Z"
    }
   },
   "outputs": [
    {
     "name": "stderr",
     "output_type": "stream",
     "text": [
      "WARNING: using LinearAlgebra.dot in module AeroMDAO conflicts with an existing identifier.\n",
      "WARNING: replacing module MathTools.\n",
      "WARNING: replacing module FoilParametrization.\n"
     ]
    }
   ],
   "source": [
    "## \n",
    "using Revise\n",
    "includet(\"../src/AeroMDAO.jl\")\n",
    "includet(\"../src/MathTools.jl\")"
   ]
  },
  {
   "cell_type": "code",
   "execution_count": 2,
   "metadata": {
    "ExecuteTime": {
     "end_time": "2020-11-02T03:00:11.658000+08:00",
     "start_time": "2020-11-01T19:00:10.309Z"
    }
   },
   "outputs": [],
   "source": [
    "##\n",
    "using .AeroMDAO\n",
    "using .MathTools: linspace, tuparray\n",
    "using DelimitedFiles\n",
    "using Rotations"
   ]
  },
  {
   "cell_type": "code",
   "execution_count": 5,
   "metadata": {
    "ExecuteTime": {
     "end_time": "2020-11-02T03:00:38.238000+08:00",
     "start_time": "2020-11-01T19:00:35.982Z"
    }
   },
   "outputs": [
    {
     "name": "stdout",
     "output_type": "stream",
     "text": [
      "Span: 2.7071067811865475 m\n",
      "Area: 2.3674234614174767 m²\n",
      "MAC: 0.9282051282051281 m\n",
      "Aspect Ratio: 3.0955286386992\n"
     ]
    }
   ],
   "source": [
    "## Wing section setup\n",
    "foilpath = \"../airfoil_database/ys930.dat\"\n",
    "\n",
    "num_secs = 3\n",
    "\n",
    "coords = read_foil(foilpath)\n",
    "foils = [ coords for i in 1:num_secs ]\n",
    "airfoils = Foil.(foils)\n",
    "\n",
    "wing_chords = [1, 1, 0.2]\n",
    "wing_twists = [0, 0, 0]\n",
    "wing_spans = [2, 1]\n",
    "wing_dihedrals = [0, 45]\n",
    "wing_sweeps = [0, 30]\n",
    "\n",
    "wing_right = HalfWing(airfoils, wing_chords, wing_spans, wing_dihedrals, wing_sweeps, wing_twists)\n",
    "wing = Wing(wing_right, wing_right)\n",
    "print_info(wing_right)"
   ]
  },
  {
   "cell_type": "markdown",
   "metadata": {},
   "source": [
    "Assembly"
   ]
  },
  {
   "cell_type": "code",
   "execution_count": 10,
   "metadata": {
    "ExecuteTime": {
     "end_time": "2020-11-02T03:02:53.375000+08:00",
     "start_time": "2020-11-01T19:02:08.482Z"
    }
   },
   "outputs": [
    {
     "data": {
      "text/plain": [
       "112-element Array{Panel3D,1}:\n",
       " Panel3D([1.0, 0.0, 0.0], [0.9874640814513509, 0.0, 0.0030573025143876263], [0.9874640814513509, -2.0, 0.0030573025143876263], [1.0, -2.0, 0.0])\n",
       " Panel3D([0.9874640814513509, 0.0, 0.0030573025143876263], [0.9504849291068701, 0.0, 0.013105024874003167], [0.9504849291068701, -2.0, 0.013105024874003167], [0.9874640814513509, -2.0, 0.0030573025143876263])\n",
       " Panel3D([0.9504849291068701, 0.0, 0.013105024874003167], [0.8909168320766025, 0.0, 0.026017878523143825], [0.8909168320766025, -2.0, 0.026017878523143825], [0.9504849291068701, -2.0, 0.013105024874003167])\n",
       " Panel3D([0.8909168320766025, 0.0, 0.026017878523143825], [0.8117467834803576, 0.0, 0.042056703937146105], [0.8117467834803576, -2.0, 0.042056703937146105], [0.8909168320766025, -2.0, 0.026017878523143825])\n",
       " Panel3D([0.8117467834803576, 0.0, 0.042056703937146105], [0.7169447001400835, 0.0, 0.058954358082818015], [0.7169447001400835, -2.0, 0.058954358082818015], [0.8117467834803576, -2.0, 0.042056703937146105])\n",
       " Panel3D([0.7169447001400835, 0.0, 0.058954358082818015], [0.6112643543734875, 0.0, 0.06904818800071447], [0.6112643543734875, -2.0, 0.06904818800071447], [0.7169447001400835, -2.0, 0.058954358082818015])\n",
       " Panel3D([0.6112643543734875, 0.0, 0.06904818800071447], [0.500005, 0.0, 0.07233157593123209], [0.500005, -2.0, 0.07233157593123209], [0.6112643543734875, -2.0, 0.06904818800071447])\n",
       " Panel3D([0.500005, 0.0, 0.07233157593123209], [0.38874564562651265, 0.0, 0.07029958342011575], [0.38874564562651265, -2.0, 0.07029958342011575], [0.500005, -2.0, 0.07233157593123209])\n",
       " Panel3D([0.38874564562651265, 0.0, 0.07029958342011575], [0.2830652998599166, 0.0, 0.06366504237642458], [0.2830652998599166, -2.0, 0.06366504237642458], [0.38874564562651265, -2.0, 0.07029958342011575])\n",
       " Panel3D([0.2830652998599166, 0.0, 0.06366504237642458], [0.18826321651964256, 0.0, 0.05318504654140477], [0.18826321651964256, -2.0, 0.05318504654140477], [0.2830652998599166, -2.0, 0.06366504237642458])\n",
       " Panel3D([0.18826321651964256, 0.0, 0.05318504654140477], [0.10909316792339752, 0.0, 0.03997089014403471], [0.10909316792339752, -2.0, 0.03997089014403471], [0.18826321651964256, -2.0, 0.05318504654140477])\n",
       " Panel3D([0.10909316792339752, 0.0, 0.03997089014403471], [0.04952507089313002, 0.0, 0.02527302002540528], [0.04952507089313002, -2.0, 0.02527302002540528], [0.10909316792339752, -2.0, 0.03997089014403471])\n",
       " Panel3D([0.04952507089313002, 0.0, 0.02527302002540528], [0.012545918548649115, 0.0, 0.010966352761137235], [0.012545918548649115, -2.0, 0.010966352761137235], [0.04952507089313002, -2.0, 0.02527302002540528])\n",
       " ⋮\n",
       " Panel3D([0.04952507089313002, 2.0, -0.020827475792190575], [0.10909316792339752, 2.0, -0.029390548149756408], [0.5991689027743052, 3.0, 0.9941218903700486], [0.5872552833682517, 3.0, 0.9958345048415618])\n",
       " Panel3D([0.10909316792339752, 2.0, -0.029390548149756408], [0.18826321651964256, 2.0, -0.03057226368721254], [0.6150029124935542, 3.0, 0.9938855472625574], [0.5991689027743052, 3.0, 0.9941218903700486])\n",
       " Panel3D([0.18826321651964256, 2.0, -0.03057226368721254], [0.2830652998599166, 2.0, -0.02623789476881732], [0.633963329161609, 3.0, 0.9947524210462364], [0.6150029124935542, 3.0, 0.9938855472625574])\n",
       " Panel3D([0.2830652998599166, 2.0, -0.02623789476881732], [0.38874564562651265, 2.0, -0.020234702071577668], [0.6550993983149282, 3.0, 0.9959530595856844], [0.633963329161609, 3.0, 0.9947524210462364])\n",
       " Panel3D([0.38874564562651265, 2.0, -0.020234702071577668], [0.500005, 2.0, -0.014070428519328953], [0.6773512691896257, 3.0, 0.9971859142961341], [0.6550993983149282, 3.0, 0.9959530595856844])\n",
       " Panel3D([0.500005, 2.0, -0.014070428519328953], [0.6112643543734875, 2.0, -0.008641850292074696], [0.6996031400643232, 3.0, 0.9982716299415849], [0.6773512691896257, 3.0, 0.9971859142961341])\n",
       " Panel3D([0.6112643543734875, 2.0, -0.008641850292074696], [0.7169447001400835, 2.0, -0.004463335967995608], [0.7207392092176425, 3.0, 0.9991073328064007], [0.6996031400643232, 3.0, 0.9982716299415849])\n",
       " Panel3D([0.7169447001400835, 2.0, -0.004463335967995608], [0.8117467834803576, 2.0, -0.0017633307939052699], [0.7396996258856973, 3.0, 0.9996473338412188], [0.7207392092176425, 3.0, 0.9991073328064007])\n",
       " Panel3D([0.8117467834803576, 2.0, -0.0017633307939052699], [0.8909168320766025, 2.0, -0.00044488198989602035], [0.7555336356049462, 3.0, 0.9999110236020207], [0.7396996258856973, 3.0, 0.9996473338412188])\n",
       " Panel3D([0.8909168320766025, 2.0, -0.00044488198989602035], [0.9504849291068701, 2.0, 5.535658932070495e-6], [0.7674472550109998, 3.0, 1.0000011071317862], [0.7555336356049462, 3.0, 0.9999110236020207])\n",
       " Panel3D([0.9504849291068701, 2.0, 5.535658932070495e-6], [0.9874640814513509, 2.0, 0.0004114015615129857], [0.7748430854798959, 3.0, 1.0000822803123024], [0.7674472550109998, 3.0, 1.0000011071317862])\n",
       " Panel3D([0.9874640814513509, 2.0, 0.0004114015615129857], [1.0, 2.0, 0.0], [0.7773502691896257, 3.0, 0.9999999999999999], [0.7748430854798959, 3.0, 1.0000822803123024])"
      ]
     },
     "execution_count": 10,
     "metadata": {},
     "output_type": "execute_result"
    }
   ],
   "source": [
    "wing_panels = make_panels(wing, spanwise_panels = 5, chordwise_panels = 1)\n",
    "test_panels = mesh_wing(wing, spanwise_panels = 1, chordwise_panels = 15)"
   ]
  },
  {
   "cell_type": "markdown",
   "metadata": {
    "ExecuteTime": {
     "end_time": "2020-11-02T03:01:18.636000+08:00",
     "start_time": "2020-11-01T19:01:09.601Z"
    }
   },
   "source": [
    "Panel case"
   ]
  },
  {
   "cell_type": "code",
   "execution_count": 7,
   "metadata": {
    "ExecuteTime": {
     "end_time": "2020-11-02T03:01:18.636000+08:00",
     "start_time": "2020-11-01T19:01:09.601Z"
    }
   },
   "outputs": [
    {
     "name": "stdout",
     "output_type": "stream",
     "text": [
      "  8.811067 seconds (16.55 M allocations: 862.228 MiB, 8.27% gc time)\n",
      "Lift: 14.430150629002176, Drag: 1.1033570656737903\n",
      "Lift Coefficient: 0.09951506345326523, Drag Coefficient: 0.007609113114970189\n",
      "Lift-to-Drag Ratio (L/D): 13.078405058465885\n"
     ]
    }
   ],
   "source": [
    "ρ = 1.225\n",
    "uniform = Uniform(10.0, 5.0, 0.0)\n",
    "@time lift, drag = solve_case(wing_panels, uniform, ρ)\n",
    "\n",
    "V = uniform.mag\n",
    "S = projected_area(wing_right)\n",
    "cl = lift/(ρ/2 * V^2 * S)\n",
    "cdi = drag/(ρ/2 * V^2 * S)\n",
    "println(\"Lift: $(sum(lift)), Drag: $(sum(drag))\")\n",
    "println(\"Lift Coefficient: $(sum(cl)), Drag Coefficient: $(sum(cdi))\")\n",
    "println(\"Lift-to-Drag Ratio (L/D): $(sum(cl)/sum(cdi))\")"
   ]
  },
  {
   "cell_type": "code",
   "execution_count": 9,
   "metadata": {
    "ExecuteTime": {
     "end_time": "2020-11-02T03:02:52.486000+08:00",
     "start_time": "2020-11-01T19:01:20.626Z"
    }
   },
   "outputs": [],
   "source": [
    "using Plots, LaTeXStrings"
   ]
  },
  {
   "cell_type": "code",
   "execution_count": null,
   "metadata": {
    "ExecuteTime": {
     "start_time": "2020-11-01T19:02:55.734Z"
    }
   },
   "outputs": [
    {
     "name": "stderr",
     "output_type": "stream",
     "text": [
      "┌ Info: Precompiling PlotlyJS [f0f68f2c-4968-5e81-91da-67840de0976a]\n",
      "└ @ Base loading.jl:1278\n",
      "┌ Warning: Module MbedTLS with build ID 115046336255914 is missing from the cache.\n",
      "│ This may mean MbedTLS [739be429-bea8-5141-9913-cc70e7f3736d] does not support precompilation but is imported by a module that does.\n",
      "└ @ Base loading.jl:1017\n",
      "┌ Warning: Module MbedTLS with build ID 115046336255914 is missing from the cache.\n",
      "│ This may mean MbedTLS [739be429-bea8-5141-9913-cc70e7f3736d] does not support precompilation but is imported by a module that does.\n",
      "└ @ Base loading.jl:1017\n",
      "┌ Warning: Module MbedTLS with build ID 115046336255914 is missing from the cache.\n",
      "│ This may mean MbedTLS [739be429-bea8-5141-9913-cc70e7f3736d] does not support precompilation but is imported by a module that does.\n",
      "└ @ Base loading.jl:1017\n",
      "┌ Warning: Module MbedTLS with build ID 115046336255914 is missing from the cache.\n",
      "│ This may mean MbedTLS [739be429-bea8-5141-9913-cc70e7f3736d] does not support precompilation but is imported by a module that does.\n",
      "└ @ Base loading.jl:1017\n",
      "┌ Warning: Module MbedTLS with build ID 115046336255914 is missing from the cache.\n",
      "│ This may mean MbedTLS [739be429-bea8-5141-9913-cc70e7f3736d] does not support precompilation but is imported by a module that does.\n",
      "└ @ Base loading.jl:1017\n",
      "┌ Warning: Module MbedTLS with build ID 115046336255914 is missing from the cache.\n",
      "│ This may mean MbedTLS [739be429-bea8-5141-9913-cc70e7f3736d] does not support precompilation but is imported by a module that does.\n",
      "└ @ Base loading.jl:1017\n",
      "┌ Warning: Module MbedTLS with build ID 115046336255914 is missing from the cache.\n",
      "│ This may mean MbedTLS [739be429-bea8-5141-9913-cc70e7f3736d] does not support precompilation but is imported by a module that does.\n",
      "└ @ Base loading.jl:1017\n",
      "┌ Warning: Module MbedTLS with build ID 115046336255914 is missing from the cache.\n",
      "│ This may mean MbedTLS [739be429-bea8-5141-9913-cc70e7f3736d] does not support precompilation but is imported by a module that does.\n",
      "└ @ Base loading.jl:1017\n",
      "┌ Info: Skipping precompilation since __precompile__(false). Importing PlotlyJS [f0f68f2c-4968-5e81-91da-67840de0976a].\n",
      "└ @ Base loading.jl:1034\n"
     ]
    }
   ],
   "source": [
    "plotlyjs()"
   ]
  },
  {
   "cell_type": "markdown",
   "metadata": {},
   "source": [
    "Wing Plot"
   ]
  },
  {
   "cell_type": "code",
   "execution_count": null,
   "metadata": {},
   "outputs": [],
   "source": [
    "# wing_plot = plot_setup(coordinates(wing))\n",
    "# wing_sects = plot_setup.(sections(wing))\n",
    "# wing_pts = horseshoe_vortex.(wing_panels)\n",
    "wing_collocs = horseshoe_collocation.(wing_panels)\n",
    "pan_coords = (tuparray ∘ panel_coords).(test_panels)\n",
    "spans = [ pt[2] for pt in wing_collocs ]\n",
    "\n",
    "plot(spans, cl)\n",
    "\n",
    "##\n",
    "plot(spans, cdi)\n",
    "\n",
    "##\n",
    "plot(xaxis = \"x\", yaxis = \"y\", zaxis = \"z\")\n",
    "plot!.(pan_coords, line = :dash, color = :black, label = :none)\n",
    "\n",
    "plot!.(wing_pts, c = :black, label = :none)\n",
    "\n",
    "scatter!(wing_collocs, c = :grey, label = \"Wing Collocation Points\")\n",
    "\n",
    "# wing_lines = [ horseshoe_lines(panel, uniform) for panel in wing_panels ]\n",
    "\n",
    "# lines = [ [ tuparray([line.r1'; line.r2']) for line in horseshoe.vortex_lines ] for horseshoe in wing_lines ]\n",
    "# [ [ plot!(line, c = :darkblue, label = :none) for line in horseshoe ] for horseshoe in lines ]\n",
    "\n",
    "gui();"
   ]
  }
 ],
 "metadata": {
  "@webio": {
   "lastCommId": null,
   "lastKernelId": null
  },
  "kernelspec": {
   "display_name": "Julia 1.5.2",
   "language": "julia",
   "name": "julia-1.5"
  },
  "language_info": {
   "file_extension": ".jl",
   "mimetype": "application/julia",
   "name": "julia",
   "version": "1.5.2"
  },
  "latex_envs": {
   "LaTeX_envs_menu_present": true,
   "autoclose": false,
   "autocomplete": true,
   "bibliofile": "biblio.bib",
   "cite_by": "apalike",
   "current_citInitial": 1,
   "eqLabelWithNumbers": true,
   "eqNumInitial": 1,
   "hotkeys": {
    "equation": "Ctrl-E",
    "itemize": "Ctrl-I"
   },
   "labels_anchors": false,
   "latex_user_defs": false,
   "report_style_numbering": false,
   "user_envs_cfg": false
  },
  "varInspector": {
   "cols": {
    "lenName": 16,
    "lenType": 16,
    "lenVar": 40
   },
   "kernels_config": {
    "python": {
     "delete_cmd_postfix": "",
     "delete_cmd_prefix": "del ",
     "library": "var_list.py",
     "varRefreshCmd": "print(var_dic_list())"
    },
    "r": {
     "delete_cmd_postfix": ") ",
     "delete_cmd_prefix": "rm(",
     "library": "var_list.r",
     "varRefreshCmd": "cat(var_dic_list()) "
    }
   },
   "types_to_exclude": [
    "module",
    "function",
    "builtin_function_or_method",
    "instance",
    "_Feature"
   ],
   "window_display": false
  }
 },
 "nbformat": 4,
 "nbformat_minor": 4
}
