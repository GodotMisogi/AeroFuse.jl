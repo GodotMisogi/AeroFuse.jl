{
 "cells": [
  {
   "cell_type": "markdown",
   "metadata": {},
   "source": [
    "# **Wing Setups**"
   ]
  },
  {
   "cell_type": "code",
   "execution_count": 1,
   "metadata": {
    "ExecuteTime": {
     "end_time": "2020-10-14T23:34:50.363000+08:00",
     "start_time": "2020-10-14T15:34:12.433Z"
    }
   },
   "outputs": [
    {
     "data": {
      "text/plain": [
       "Plots.PlotlyBackend()"
      ]
     },
     "execution_count": 1,
     "metadata": {},
     "output_type": "execute_result"
    }
   ],
   "source": [
    "include(\"../src/FoilParametrization.jl\")\n",
    "include(\"../src/AeroMDAO.jl\")\n",
    "\n",
    "using .AeroMDAO: Point3D, Point2D, Foil, HalfWing, Wing, projected_area, span, mean_aerodynamic_chord, aspect_ratio\n",
    "using .FoilParametrization: read_foil, cosine_foil, kulfan_CST, linspace\n",
    "using BenchmarkTools\n",
    "using Plots\n",
    "plotly()"
   ]
  },
  {
   "cell_type": "code",
   "execution_count": 2,
   "metadata": {
    "ExecuteTime": {
     "end_time": "2020-10-15T00:04:31.939000+08:00",
     "start_time": "2020-10-14T16:04:25.396Z"
    }
   },
   "outputs": [
    {
     "data": {
      "text/plain": [
       "\"../airfoil_database/ys930.dat\""
      ]
     },
     "execution_count": 2,
     "metadata": {},
     "output_type": "execute_result"
    }
   ],
   "source": [
    "foilpath = \"../airfoil_database/ys930.dat\""
   ]
  },
  {
   "cell_type": "markdown",
   "metadata": {
    "cell_style": "split"
   },
   "source": [
    "Wing Section Setup"
   ]
  },
  {
   "cell_type": "code",
   "execution_count": 3,
   "metadata": {
    "ExecuteTime": {
     "end_time": "2020-10-15T00:04:33.653000+08:00",
     "start_time": "2020-10-14T16:04:26.559Z"
    }
   },
   "outputs": [],
   "source": [
    "num_secs = 5\n",
    "xs = zeros(num_secs)\n",
    "ys = linspace(0, 2, num_secs)\n",
    "zs = zeros(num_secs)\n",
    "\n",
    "coords = read_foil(foilpath)\n",
    "foils = [ coords for n in 1:num_secs ]\n",
    "airfoils = Foil.(foils)\n",
    "\n",
    "chords = [2, 1.5, 1, 0.5, 0.2, 0.1]\n",
    "twists = zeros(num_secs + 1)\n",
    "spans = repeat([1.0], num_secs)\n",
    "dihedrals = repeat([5.0], num_secs)\n",
    "sweeps = repeat([30.0], num_secs);"
   ]
  },
  {
   "cell_type": "markdown",
   "metadata": {},
   "source": [
    "Wing Definition"
   ]
  },
  {
   "cell_type": "code",
   "execution_count": 4,
   "metadata": {
    "ExecuteTime": {
     "end_time": "2020-10-15T00:04:35.170000+08:00",
     "start_time": "2020-10-14T16:04:28.066Z"
    }
   },
   "outputs": [
    {
     "name": "stdout",
     "output_type": "stream",
     "text": [
      "Span: 9.961946980917455 m\n",
      "Area: 7.333204283133978 m²\n",
      "MAC: 1.2713725490196077 m\n",
      "Aspect Ratio: 13.533018284906992\n"
     ]
    }
   ],
   "source": [
    "left = HalfWing(airfoils, chords, spans, dihedrals, sweeps, twists)\n",
    "wing = Wing(left, left)\n",
    "println(\"Span: \", span(wing), \" m\")\n",
    "println(\"Area: \", projected_area(wing), \" m²\")\n",
    "println(\"MAC: \", mean_aerodynamic_chord(wing), \" m\")\n",
    "println(\"Aspect Ratio: \", aspect_ratio(wing))"
   ]
  },
  {
   "cell_type": "code",
   "execution_count": null,
   "metadata": {},
   "outputs": [],
   "source": []
  }
 ],
 "metadata": {
  "kernelspec": {
   "display_name": "Julia 1.5.2",
   "language": "julia",
   "name": "julia-1.5"
  },
  "language_info": {
   "file_extension": ".jl",
   "mimetype": "application/julia",
   "name": "julia",
   "version": "1.5.2"
  },
  "latex_envs": {
   "LaTeX_envs_menu_present": true,
   "autoclose": false,
   "autocomplete": true,
   "bibliofile": "biblio.bib",
   "cite_by": "apalike",
   "current_citInitial": 1,
   "eqLabelWithNumbers": true,
   "eqNumInitial": 1,
   "hotkeys": {
    "equation": "Ctrl-E",
    "itemize": "Ctrl-I"
   },
   "labels_anchors": false,
   "latex_user_defs": false,
   "report_style_numbering": false,
   "user_envs_cfg": false
  },
  "varInspector": {
   "cols": {
    "lenName": 16,
    "lenType": 16,
    "lenVar": 40
   },
   "kernels_config": {
    "python": {
     "delete_cmd_postfix": "",
     "delete_cmd_prefix": "del ",
     "library": "var_list.py",
     "varRefreshCmd": "print(var_dic_list())"
    },
    "r": {
     "delete_cmd_postfix": ") ",
     "delete_cmd_prefix": "rm(",
     "library": "var_list.r",
     "varRefreshCmd": "cat(var_dic_list()) "
    }
   },
   "types_to_exclude": [
    "module",
    "function",
    "builtin_function_or_method",
    "instance",
    "_Feature"
   ],
   "window_display": false
  }
 },
 "nbformat": 4,
 "nbformat_minor": 2
}
