{
 "cells": [
  {
   "cell_type": "markdown",
   "metadata": {},
   "source": [
    "# **Boundary Layer Theory**"
   ]
  },
  {
   "cell_type": "code",
   "execution_count": 1,
   "metadata": {
    "ExecuteTime": {
     "end_time": "2020-10-15T21:48:11.777000+08:00",
     "start_time": "2020-10-15T13:47:48.059Z"
    },
    "scrolled": true
   },
   "outputs": [
    {
     "name": "stderr",
     "output_type": "stream",
     "text": [
      "\u001b[32m\u001b[1m   Updating\u001b[22m\u001b[39m registry at `C:\\Users\\godot\\.julia\\registries\\General`"
     ]
    },
    {
     "name": "stdout",
     "output_type": "stream",
     "text": [
      "\u001b[?25l"
     ]
    },
    {
     "name": "stderr",
     "output_type": "stream",
     "text": [
      "\n",
      "\u001b[32m\u001b[1m   Updating\u001b[22m\u001b[39m git-repo `https://github.com/JuliaRegistries/General.git`\n"
     ]
    },
    {
     "name": "stdout",
     "output_type": "stream",
     "text": [
      "\u001b[2K\u001b[36m\u001b[1mFetching:\u001b[22m\u001b[39m [========================================>]  100.0 %\u001b[?25h"
     ]
    },
    {
     "name": "stderr",
     "output_type": "stream",
     "text": [
      "\u001b[32m\u001b[1m  Resolving\u001b[22m\u001b[39m package versions...\n",
      "\u001b[32m\u001b[1mNo Changes\u001b[22m\u001b[39m to `D:\\Academia\\AeroMDAO\\Project.toml`\n",
      "\u001b[32m\u001b[1mNo Changes\u001b[22m\u001b[39m to `D:\\Academia\\AeroMDAO\\Manifest.toml`\n"
     ]
    }
   ],
   "source": [
    "import Pkg; Pkg.add(\"OrdinaryDiffEq\")"
   ]
  },
  {
   "cell_type": "code",
   "execution_count": 2,
   "metadata": {
    "ExecuteTime": {
     "end_time": "2020-10-15T21:50:40.892000+08:00",
     "start_time": "2020-10-15T13:47:48.064Z"
    }
   },
   "outputs": [
    {
     "name": "stderr",
     "output_type": "stream",
     "text": [
      "┌ Info: Precompiling ModelingToolkit [961ee093-0014-501f-94e3-6117800e7a78]\n",
      "└ @ Base loading.jl:1278\n",
      "┌ Info: Precompiling OrdinaryDiffEq [1dea7af3-3e70-54e6-95c3-0bf5283fa5ed]\n",
      "└ @ Base loading.jl:1278\n"
     ]
    }
   ],
   "source": [
    "using ModelingToolkit, OrdinaryDiffEq, Plots"
   ]
  },
  {
   "cell_type": "code",
   "execution_count": 3,
   "metadata": {
    "ExecuteTime": {
     "end_time": "2020-10-15T21:50:42.397000+08:00",
     "start_time": "2020-10-15T13:47:48.067Z"
    }
   },
   "outputs": [
    {
     "ename": "LoadError",
     "evalue": "UndefVarError: D not defined",
     "output_type": "error",
     "traceback": [
      "UndefVarError: D not defined",
      "",
      "Stacktrace:",
      " [1] top-level scope at In[3]:1",
      " [2] include_string(::Function, ::Module, ::String, ::String) at .\\loading.jl:1091"
     ]
    }
   ],
   "source": [
    "eqs = [D(x) ~ σ*(y-x) - D(y),\n",
    "       D(y) ~ x*(ρ-z)-y + D(x),\n",
    "       D(z) ~ x*y - β*z]"
   ]
  },
  {
   "cell_type": "code",
   "execution_count": 4,
   "metadata": {
    "ExecuteTime": {
     "end_time": "2020-10-15T21:50:42.407000+08:00",
     "start_time": "2020-10-15T13:47:48.069Z"
    }
   },
   "outputs": [
    {
     "ename": "LoadError",
     "evalue": "UndefVarError: eqs not defined",
     "output_type": "error",
     "traceback": [
      "UndefVarError: eqs not defined",
      "",
      "Stacktrace:",
      " [1] top-level scope at In[4]:1",
      " [2] include_string(::Function, ::Module, ::String, ::String) at .\\loading.jl:1091"
     ]
    }
   ],
   "source": [
    "lorenz1 = ODESystem(eqs,name=:lorenz1)\n",
    "lorenz2 = ODESystem(eqs,name=:lorenz2)"
   ]
  },
  {
   "cell_type": "code",
   "execution_count": 5,
   "metadata": {
    "ExecuteTime": {
     "end_time": "2020-10-15T21:50:42.458000+08:00",
     "start_time": "2020-10-15T13:47:48.072Z"
    }
   },
   "outputs": [
    {
     "ename": "LoadError",
     "evalue": "UndefVarError: lorenz1 not defined",
     "output_type": "error",
     "traceback": [
      "UndefVarError: lorenz1 not defined",
      "",
      "Stacktrace:",
      " [1] top-level scope at In[5]:3",
      " [2] include_string(::Function, ::Module, ::String, ::String) at .\\loading.jl:1091"
     ]
    }
   ],
   "source": [
    "@variables a\n",
    "@parameters γ\n",
    "connections = [0 ~ lorenz1.x + lorenz2.y + a*γ]\n",
    "connected = ODESystem(connections,t,[a],[γ],systems=[lorenz1,lorenz2])"
   ]
  },
  {
   "cell_type": "code",
   "execution_count": 6,
   "metadata": {
    "ExecuteTime": {
     "end_time": "2020-10-15T21:50:42.467000+08:00",
     "start_time": "2020-10-15T13:47:48.074Z"
    }
   },
   "outputs": [
    {
     "ename": "LoadError",
     "evalue": "UndefVarError: lorenz1 not defined",
     "output_type": "error",
     "traceback": [
      "UndefVarError: lorenz1 not defined",
      "",
      "Stacktrace:",
      " [1] top-level scope at In[6]:1",
      " [2] include_string(::Function, ::Module, ::String, ::String) at .\\loading.jl:1091"
     ]
    }
   ],
   "source": [
    "u0 = [lorenz1.x => 1.0,\n",
    "      lorenz1.y => 0.0,\n",
    "      lorenz1.z => 0.0,\n",
    "      lorenz2.x => 0.0,\n",
    "      lorenz2.y => 1.0,\n",
    "      lorenz2.z => 0.0,\n",
    "      a => 2.0]\n",
    "\n",
    "p  = [lorenz1.σ => 10.0,\n",
    "      lorenz1.ρ => 28.0,\n",
    "      lorenz1.β => 8/3,\n",
    "      lorenz2.σ => 10.0,\n",
    "      lorenz2.ρ => 28.0,\n",
    "      lorenz2.β => 8/3,\n",
    "      γ => 2.0]"
   ]
  },
  {
   "cell_type": "code",
   "execution_count": 7,
   "metadata": {
    "ExecuteTime": {
     "end_time": "2020-10-15T21:50:42.473000+08:00",
     "start_time": "2020-10-15T13:47:48.078Z"
    },
    "scrolled": true
   },
   "outputs": [
    {
     "ename": "LoadError",
     "evalue": "UndefVarError: connected not defined",
     "output_type": "error",
     "traceback": [
      "UndefVarError: connected not defined",
      "",
      "Stacktrace:",
      " [1] top-level scope at In[7]:2",
      " [2] include_string(::Function, ::Module, ::String, ::String) at .\\loading.jl:1091"
     ]
    }
   ],
   "source": [
    "tspan = (0.0,100.0)\n",
    "prob = ODEProblem(connected,u0,tspan,p)\n",
    "sol = solve(prob,Rodas5())"
   ]
  },
  {
   "cell_type": "code",
   "execution_count": 8,
   "metadata": {
    "ExecuteTime": {
     "end_time": "2020-10-15T21:50:45.328000+08:00",
     "start_time": "2020-10-15T13:47:48.082Z"
    }
   },
   "outputs": [
    {
     "ename": "LoadError",
     "evalue": "UndefVarError: lorenz1 not defined",
     "output_type": "error",
     "traceback": [
      "UndefVarError: lorenz1 not defined",
      "",
      "Stacktrace:",
      " [1] top-level scope at In[8]:2",
      " [2] include_string(::Function, ::Module, ::String, ::String) at .\\loading.jl:1091"
     ]
    }
   ],
   "source": [
    "plotly()\n",
    "plot(sol,vars=(a,lorenz1.x,lorenz2.z))"
   ]
  },
  {
   "cell_type": "code",
   "execution_count": 9,
   "metadata": {
    "ExecuteTime": {
     "end_time": "2020-10-15T21:50:47.068000+08:00",
     "start_time": "2020-10-15T13:47:48.084Z"
    }
   },
   "outputs": [
    {
     "data": {
      "text/plain": [
       "(s, ρ_e, u_e, a_e, τ_w, δ_st)"
      ]
     },
     "execution_count": 9,
     "metadata": {},
     "output_type": "execute_result"
    }
   ],
   "source": [
    "@parameters s ρ_e u_e a_e τ_w δ_st"
   ]
  },
  {
   "cell_type": "code",
   "execution_count": 10,
   "metadata": {
    "ExecuteTime": {
     "end_time": "2020-10-15T21:50:47.818000+08:00",
     "start_time": "2020-10-15T13:47:48.088Z"
    }
   },
   "outputs": [
    {
     "data": {
      "text/plain": [
       "(θ(s), m(s), ñ(s), Cᵣ(s))"
      ]
     },
     "execution_count": 10,
     "metadata": {},
     "output_type": "execute_result"
    }
   ],
   "source": [
    "@variables θ(s) m(s) ñ(s) Cᵣ(s)"
   ]
  },
  {
   "cell_type": "code",
   "execution_count": 11,
   "metadata": {
    "ExecuteTime": {
     "end_time": "2020-10-15T21:50:48.164000+08:00",
     "start_time": "2020-10-15T13:47:48.090Z"
    }
   },
   "outputs": [
    {
     "data": {
      "text/plain": [
       "((D'~s),)"
      ]
     },
     "execution_count": 11,
     "metadata": {},
     "output_type": "execute_result"
    }
   ],
   "source": [
    "@derivatives D'~s"
   ]
  },
  {
   "cell_type": "code",
   "execution_count": 12,
   "metadata": {
    "ExecuteTime": {
     "end_time": "2020-10-15T21:50:48.170000+08:00",
     "start_time": "2020-10-15T13:47:48.092Z"
    }
   },
   "outputs": [
    {
     "ename": "LoadError",
     "evalue": "UndefVarError: x not defined",
     "output_type": "error",
     "traceback": [
      "UndefVarError: x not defined",
      "",
      "Stacktrace:",
      " [1] top-level scope at In[12]:1",
      " [2] include_string(::Function, ::Module, ::String, ::String) at .\\loading.jl:1091"
     ]
    }
   ],
   "source": [
    "eqs = [D(x) ~ σ*(y-x),\n",
    "       D(y) ~ x*(ρ-z)-y,\n",
    "       D(z) ~ x*y - β*z]"
   ]
  },
  {
   "cell_type": "code",
   "execution_count": 13,
   "metadata": {
    "ExecuteTime": {
     "end_time": "2020-10-15T21:50:48.201000+08:00",
     "start_time": "2020-10-15T13:47:48.094Z"
    }
   },
   "outputs": [
    {
     "ename": "LoadError",
     "evalue": "syntax: incomplete: premature end of input",
     "output_type": "error",
     "traceback": [
      "syntax: incomplete: premature end of input",
      "",
      "Stacktrace:",
      " [1] top-level scope at In[13]:1",
      " [2] include_string(::Function, ::Module, ::String, ::String) at .\\loading.jl:1091"
     ]
    }
   ],
   "source": [
    "function integral_momentum_equation(dx, x, p, s)\n",
    "    θ, dθ = x\n",
    "    ρ_e, u_e, a_e, τ_w, δ_st = p\n",
    "    H = δ_st/θ     \n",
    "    M_e, H = u_e/a_e,\n",
    "    c_f = τ_w/(0.5 * ρ_e * u_e^2)\n",
    "    dx = "
   ]
  },
  {
   "cell_type": "code",
   "execution_count": null,
   "metadata": {},
   "outputs": [],
   "source": []
  }
 ],
 "metadata": {
  "kernelspec": {
   "display_name": "Julia 1.5.0",
   "language": "julia",
   "name": "julia-1.5"
  },
  "language_info": {
   "file_extension": ".jl",
   "mimetype": "application/julia",
   "name": "julia",
   "version": "1.5.0"
  },
  "latex_envs": {
   "LaTeX_envs_menu_present": true,
   "autoclose": false,
   "autocomplete": true,
   "bibliofile": "biblio.bib",
   "cite_by": "apalike",
   "current_citInitial": 1,
   "eqLabelWithNumbers": true,
   "eqNumInitial": 1,
   "hotkeys": {
    "equation": "Ctrl-E",
    "itemize": "Ctrl-I"
   },
   "labels_anchors": false,
   "latex_user_defs": false,
   "report_style_numbering": false,
   "user_envs_cfg": false
  }
 },
 "nbformat": 4,
 "nbformat_minor": 2
}
